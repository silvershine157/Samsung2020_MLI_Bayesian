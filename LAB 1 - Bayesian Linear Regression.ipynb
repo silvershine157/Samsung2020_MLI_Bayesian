{
 "cells": [
  {
   "cell_type": "markdown",
   "metadata": {},
   "source": [
    "# Bayesian Linear Regression\n",
    "Created by: Eunhyuk Shin\\\n",
    "Contact: silvershine157@kaist.ac.kr"
   ]
  },
  {
   "cell_type": "code",
   "execution_count": null,
   "metadata": {},
   "outputs": [],
   "source": [
    "import numpy as np\n",
    "%matplotlib inline\n",
    "import matplotlib\n",
    "import matplotlib.pyplot as plt"
   ]
  },
  {
   "cell_type": "code",
   "execution_count": null,
   "metadata": {},
   "outputs": [],
   "source": [
    "X_SCALE = 3.0\n",
    "W_SCALE = 2.0\n",
    "BETA = 2.0 # = 1/sigma^2\n",
    "\n",
    "def visualize_model(X, y, w_dict):\n",
    "    plt.figure()\n",
    "    ax = plt.subplot(1,2,1)\n",
    "    x_line = np.array([-X_SCALE, X_SCALE])\n",
    "    for key in w_dict:\n",
    "        w = w_dict[key]\n",
    "        y_line = w[0, 1]*x_line + w[0, 0]\n",
    "        ax.plot(x_line, y_line, label=key)\n",
    "    ax.scatter(X[:, 1], y[:, 0], marker='.', color='k')\n",
    "    ax.set_aspect(aspect=1.0)\n",
    "    ax.legend()\n",
    "    ax.axis([-X_SCALE, X_SCALE, -X_SCALE, X_SCALE])\n",
    "    ax = plt.subplot(1,2,2)\n",
    "    for key in w_dict:\n",
    "        w = w_dict[key]\n",
    "        ax.scatter(w[0, 1], w[0, 0], label=key)\n",
    "    ax.set_aspect(aspect=1.0)\n",
    "    ax.legend()\n",
    "    ax.axis([-W_SCALE, W_SCALE, -W_SCALE, W_SCALE])\n",
    "    plt.show()\n",
    "\n",
    "def make_data():\n",
    "    N = 5\n",
    "    X1 = np.random.randn(N)\n",
    "    X = np.stack([np.ones(N), X1], axis=1) # (N, 2)\n",
    "    w_true = np.array([[-.5, 0.3]]) # (1, 2)\n",
    "    y = np.matmul(X, w_true.transpose()) + (1/np.sqrt(BETA))*np.random.randn(N, 1) # (N, 1)\n",
    "    return X, y, w_true\n",
    "\n",
    "X, y, w_true = make_data()\n",
    "visualize_model(X, y, {\"true\": w_true})"
   ]
  },
  {
   "cell_type": "code",
   "execution_count": null,
   "metadata": {},
   "outputs": [],
   "source": [
    "def mle(X, y):\n",
    "    XT = X.transpose()\n",
    "    w_mle = np.matmul(np.linalg.inv(np.matmul(XT, X)), np.matmul(XT, y)).transpose()\n",
    "    return w_mle\n",
    "w_mle = mle(X, y)\n",
    "visualize_model(X, y, {\"True\": w_true, \"MLE\": w_mle})"
   ]
  },
  {
   "cell_type": "code",
   "execution_count": null,
   "metadata": {},
   "outputs": [],
   "source": [
    "def get_density(m, S):\n",
    "    beta = 0.5\n",
    "    W0 = np.linspace(-W_SCALE, W_SCALE)\n",
    "    W1 = np.linspace(-W_SCALE, W_SCALE)\n",
    "    W0, W1 = np.meshgrid(W0, W1)\n",
    "    W = np.stack([W0, W1], axis=2) # (G, G, 2)\n",
    "    S_det = np.linalg.det(S)\n",
    "    S_inv = np.linalg.inv(S)\n",
    "    normalizer = np.sqrt((((2*np.pi)**2))*S_det)\n",
    "    fac = np.einsum('...k,kl,...l->...', W-m, S_inv, W-m) # (G, G)\n",
    "    log_density = -fac/2.0 - np.log(normalizer)\n",
    "    density = np.exp(log_density)\n",
    "    return density\n",
    "    \n",
    "def visualize_bayesian(m, S):\n",
    "    plt.figure()\n",
    "    ax = plt.subplot(1,2,1)\n",
    "    n_sampling = 50\n",
    "    for _ in range(n_sampling):\n",
    "        w = np.random.multivariate_normal(m, S).reshape(1, 2)\n",
    "        x_line = np.array([-X_SCALE, X_SCALE])\n",
    "        y_line = w[0, 1]*x_line + w[0, 0]\n",
    "        ax.plot(x_line, y_line, 'y--')\n",
    "    ax.set_aspect(aspect=1.0)\n",
    "    ax.axis([-X_SCALE, X_SCALE, -X_SCALE, X_SCALE])\n",
    "    ax = plt.subplot(1,2,2)\n",
    "    density = get_density(m, S)\n",
    "    ax.imshow(np.flip(density, axis=1).transpose())\n",
    "    plt.show()\n",
    "    \n",
    "m0 = np.array([0, 0])\n",
    "S0 = 1.0*np.eye(2)\n",
    "visualize_bayesian(m0, S0)"
   ]
  },
  {
   "cell_type": "code",
   "execution_count": null,
   "metadata": {
    "scrolled": false
   },
   "outputs": [],
   "source": [
    "def get_posterior(m0, S0, X, y):\n",
    "    S0_inv = np.linalg.inv(S0)\n",
    "    SN = np.linalg.inv(S0_inv + BETA*np.matmul(X.transpose(), X))\n",
    "    mN = np.matmul(SN, np.matmul(S0_inv, m0) + BETA*np.matmul(X.transpose(), y).reshape(2))\n",
    "    return mN, SN\n",
    "\n",
    "mN, SN = get_posterior(m0, S0, X, y)\n",
    "visualize_model(X, y, {\"true\": w_true})\n",
    "visualize_bayesian(mN, SN)"
   ]
  },
  {
   "cell_type": "code",
   "execution_count": null,
   "metadata": {},
   "outputs": [],
   "source": []
  }
 ],
 "metadata": {
  "kernelspec": {
   "display_name": "Python 3",
   "language": "python",
   "name": "python3"
  },
  "language_info": {
   "codemirror_mode": {
    "name": "ipython",
    "version": 3
   },
   "file_extension": ".py",
   "mimetype": "text/x-python",
   "name": "python",
   "nbconvert_exporter": "python",
   "pygments_lexer": "ipython3",
   "version": "3.6.9"
  }
 },
 "nbformat": 4,
 "nbformat_minor": 2
}
